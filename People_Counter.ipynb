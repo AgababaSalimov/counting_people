import cv2
import time
import numpy as np

import os
os.environ["KMP_DUPLICATE_LIB_OK"]="TRUE"

!pip install ultralytics

from ultralytics import YOLO
model = YOLO("yolov8x.pt")

from ultralytics import YOLO
import cv2
import numpy as np
import time
from IPython.display import Video

# Modeli yükle (küçük ve hızlı versiyon)
model = YOLO("yolov8n.pt")  # yolov8x yerine yolov8n

# Giriş ve çıkış yolları
input_path = "video.mp4"
output_path = "output.mp4"

kamera = cv2.VideoCapture(input_path)
font = cv2.FONT_HERSHEY_DUPLEX

# FPS ve boyut bilgileri
fps = int(kamera.get(cv2.CAP_PROP_FPS))
width = int(kamera.get(cv2.CAP_PROP_FRAME_WIDTH))
height = int(kamera.get(cv2.CAP_PROP_FRAME_HEIGHT))

# Video yazıcı
fourcc = cv2.VideoWriter_fourcc(*"mp4v")
out = cv2.VideoWriter(output_path, fourcc, fps, (width, height))

# Bölgeler
region1 = np.array([(0,130),(0,110),(640,260),(640,280)]).reshape((-1,1,2))
region2 = np.array([(0,130),(0,150),(640,300),(640,280)]).reshape((-1,1,2))

total_ust, total_alt, first_in, first_out = set(), set(), set(), set()

while True:
    ret, frame = kamera.read()
    if not ret:
        break
    
    rgb_img = cv2.cvtColor(frame, cv2.COLOR_BGR2RGB)
    cv2.line(frame, (0,130), (640,280), (255,0,255), 3)
    
    results = model.track(rgb_img, persist=True, verbose=False)
    
    for i in range(len(results[0].boxes)):
        x1,y1,x2,y2 = results[0].boxes.xyxy[i]
        score = results[0].boxes.conf[i]
        cls = results[0].boxes.cls[i]
        ids = results[0].boxes.id[i]
        
        x1,y1,x2,y2,score,cls,ids = int(x1),int(y1),int(x2),int(y2),float(score),int(cls),int(ids)
        
        if score < 0.5 or cls != 0:
            continue

        cx, cy = int(x1/2 + x2/2), int(y1/2 + y2/2)
        cv2.circle(frame, (cx,cy), 4, (0,255,255), -1)
        
        inside_region1 = cv2.pointPolygonTest(region1, (cx,cy), False)
        if inside_region1 > 0:
            if ids in total_alt:
                first_out.add(ids)
                cv2.line(frame, (0,130), (640,280), (255,255,255), 3)
            total_ust.add(ids)
        
        inside_region2 = cv2.pointPolygonTest(region2, (cx,cy), False)
        if inside_region2 > 0:
            if ids in total_ust:
                cv2.line(frame, (0,130), (640,280), (255,255,255), 3)
                first_in.add(ids)
            total_alt.add(ids)
    
    first_in_str = 'IN: ' + str(len(first_in))
    first_out_str = 'OUT: ' + str(len(first_out))
    
    frame[0:40,0:120] = (102,0,153)
    frame[0:40,510:640] = (102,0,153)
    cv2.putText(frame, first_in_str, (0, 30), font, 1, (255,255,255), 1)
    cv2.putText(frame, first_out_str, (510, 30), font, 1, (255,255,255), 1)
   
    # Frame'i çıktı videosuna yaz
    out.write(frame)

kamera.release()
out.release()

# Colab'da videoyu göster
Video(output_path, embed=True)
